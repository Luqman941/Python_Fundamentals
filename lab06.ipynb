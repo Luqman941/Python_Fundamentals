{
 "cells": [
  {
   "cell_type": "markdown",
   "id": "1e6b2610",
   "metadata": {},
   "source": [
    "# Class & Inhertance \n",
    "\n",
    "### Class\n",
    "- Blueprint for an objects "
   ]
  },
  {
   "cell_type": "code",
   "execution_count": 1,
   "id": "66a54186",
   "metadata": {},
   "outputs": [],
   "source": [
    "class Dog:\n",
    "    pass\n",
    "\n",
    "my_Dog = Dog()"
   ]
  },
  {
   "cell_type": "code",
   "execution_count": 2,
   "id": "9b6799b1",
   "metadata": {},
   "outputs": [],
   "source": [
    "class Dog:\n",
    "    # Constructor\n",
    "    def __init__(self, name, age):\n",
    "        self.name = name\n",
    "        self.age = age"
   ]
  },
  {
   "cell_type": "code",
   "execution_count": 3,
   "id": "60542539",
   "metadata": {},
   "outputs": [
    {
     "name": "stdout",
     "output_type": "stream",
     "text": [
      "Buddy\n",
      "Golden Retriever\n",
      "Buddy is barking\n",
      "Buddy is a Golden Retriever\n"
     ]
    }
   ],
   "source": [
    "class Dog:\n",
    "    def __init__(self, name, breed):\n",
    "        self.name = name\n",
    "        self.breed = breed\n",
    "\n",
    "    def bark(self):\n",
    "        print(f'{self.name} is barking')\n",
    "\n",
    "    def info(self):\n",
    "        print(f'{self.name} is a {self.breed}')\n",
    "\n",
    "my_dog = Dog('Buddy','Golden Retriever')\n",
    "\n",
    "print(my_dog.name)\n",
    "print(my_dog.breed)\n",
    "\n",
    "my_dog.bark()\n",
    "my_dog.info()"
   ]
  },
  {
   "cell_type": "markdown",
   "id": "3085b1d1",
   "metadata": {},
   "source": [
    "### Class with static method"
   ]
  },
  {
   "cell_type": "code",
   "execution_count": 4,
   "id": "d1f8fa3d",
   "metadata": {},
   "outputs": [
    {
     "name": "stdout",
     "output_type": "stream",
     "text": [
      "Total fee for 2 months: 20000\n"
     ]
    }
   ],
   "source": [
    "class Student:\n",
    "    college_name = 'Cadet College'\n",
    "\n",
    "    def __init__(self, name, roll_no):\n",
    "        self.name = name\n",
    "        self.roll_no = roll_no\n",
    "\n",
    "    @staticmethod\n",
    "    def calculate_fee(month):\n",
    "        fee_per_month = 10000\n",
    "        return month * fee_per_month\n",
    "    \n",
    "total_fee = Student.calculate_fee(2)\n",
    "print(f'Total fee for 2 months: {total_fee}')"
   ]
  },
  {
   "cell_type": "markdown",
   "id": "697795bd",
   "metadata": {},
   "source": [
    "### Inheritance\n",
    "- Child class inherits attributes & behavior of parent class"
   ]
  },
  {
   "cell_type": "code",
   "execution_count": 5,
   "id": "697b46f5",
   "metadata": {},
   "outputs": [
    {
     "name": "stdout",
     "output_type": "stream",
     "text": [
      "The Vehicle moves\n"
     ]
    }
   ],
   "source": [
    "class Vehicle:\n",
    "    def move(self):\n",
    "        print('The Vehicle moves')\n",
    "\n",
    "class Jeep(Vehicle):\n",
    "    pass\n",
    "\n",
    "my_jeep = Jeep()\n",
    "my_jeep.move()"
   ]
  },
  {
   "cell_type": "code",
   "execution_count": 6,
   "id": "eeb0a67d",
   "metadata": {},
   "outputs": [
    {
     "name": "stdout",
     "output_type": "stream",
     "text": [
      "Generic Animal\n",
      "Animal makes sound\n"
     ]
    }
   ],
   "source": [
    "class Animal:\n",
    "    def __init__(self, name):\n",
    "        self.name = name\n",
    "\n",
    "    def make_sound(self):\n",
    "        print('Animal makes sound')\n",
    "\n",
    "animal = Animal('Generic Animal')\n",
    "print(animal.name)\n",
    "animal.make_sound()"
   ]
  },
  {
   "cell_type": "code",
   "execution_count": 7,
   "id": "7a4ed044",
   "metadata": {},
   "outputs": [
    {
     "name": "stdout",
     "output_type": "stream",
     "text": [
      "Dog name is Tommy\n",
      "Animal makes sound\n",
      "Dog bark\n"
     ]
    }
   ],
   "source": [
    "class Dog(Animal):\n",
    "    def bark(self):\n",
    "        print('Dog bark')\n",
    "\n",
    "dog = Dog('Tommy')\n",
    "print('Dog name is',dog.name)\n",
    "dog.make_sound()\n",
    "dog.bark()"
   ]
  },
  {
   "cell_type": "markdown",
   "id": "a289138d",
   "metadata": {},
   "source": [
    "### Method Overriding of parent class"
   ]
  },
  {
   "cell_type": "code",
   "execution_count": 8,
   "id": "5396e8dc",
   "metadata": {},
   "outputs": [
    {
     "name": "stdout",
     "output_type": "stream",
     "text": [
      "Cat says meow\n"
     ]
    }
   ],
   "source": [
    "class Animal:\n",
    "    def make_sound(self):\n",
    "        print('Generic Animal Sound')\n",
    "\n",
    "class Cat(Animal):\n",
    "    def make_sound(self):       # method overriding\n",
    "        print('Cat says meow')\n",
    "    \n",
    "cat = Cat()\n",
    "cat.make_sound()"
   ]
  },
  {
   "cell_type": "markdown",
   "id": "b81d69f0",
   "metadata": {},
   "source": [
    "### Super() for calling parent method/constructor"
   ]
  },
  {
   "cell_type": "code",
   "execution_count": 9,
   "id": "d1e94dca",
   "metadata": {},
   "outputs": [
    {
     "name": "stdout",
     "output_type": "stream",
     "text": [
      "Ali A12345\n"
     ]
    }
   ],
   "source": [
    "class Person:\n",
    "    def __init__(self, name):\n",
    "        self.name = name\n",
    "\n",
    "class Teacher(Person):\n",
    "    def __init__(self, name , teacher_id):\n",
    "        super().__init__(name)\n",
    "        self.teacher_id = teacher_id\n",
    "\n",
    "teacher = Teacher('Ali', 'A12345')\n",
    "print(teacher.name, teacher.teacher_id)"
   ]
  },
  {
   "cell_type": "markdown",
   "id": "a6c0d466",
   "metadata": {},
   "source": [
    "# Types of Inheritance\n",
    "# Single Inheritance\n",
    "- One child from one parent"
   ]
  },
  {
   "cell_type": "code",
   "execution_count": 10,
   "id": "ffaff437",
   "metadata": {},
   "outputs": [
    {
     "name": "stdout",
     "output_type": "stream",
     "text": [
      "Parent class method is called\n"
     ]
    }
   ],
   "source": [
    "class Parent:\n",
    "    def show(self):\n",
    "        print('Parent class method is called')\n",
    "\n",
    "class Child(Parent):\n",
    "    pass\n",
    "\n",
    "child = Child()\n",
    "child.show()"
   ]
  },
  {
   "cell_type": "markdown",
   "id": "9aa3b10d",
   "metadata": {},
   "source": [
    "# Multiple Inheritance\n",
    "- One child from multiple parents"
   ]
  },
  {
   "cell_type": "code",
   "execution_count": 11,
   "id": "b9045137",
   "metadata": {},
   "outputs": [
    {
     "name": "stdout",
     "output_type": "stream",
     "text": [
      "Mother loves cooking\n",
      "Father loves painting\n",
      "Son loves playing\n"
     ]
    }
   ],
   "source": [
    "class Mother():\n",
    "    def cooking(self):\n",
    "        print('Mother loves cooking')\n",
    "\n",
    "class Father():\n",
    "    def painting(self):\n",
    "        print('Father loves painting')\n",
    "\n",
    "class Son(Mother, Father):\n",
    "    def playing(self):\n",
    "        print('Son loves playing')\n",
    "\n",
    "s = Son()      # child inherited all methods\n",
    "s.cooking()\n",
    "s.painting()\n",
    "s.playing()"
   ]
  },
  {
   "cell_type": "markdown",
   "id": "c55e1c48",
   "metadata": {},
   "source": [
    "# Hierarchichal Inheritance\n",
    "- Multiple Children from one Parent"
   ]
  },
  {
   "cell_type": "code",
   "execution_count": 12,
   "id": "e8221ca3",
   "metadata": {},
   "outputs": [
    {
     "name": "stdout",
     "output_type": "stream",
     "text": [
      "Animal breathes\n",
      "Fish swims\n",
      "Animal breathes\n",
      "Bird flies\n"
     ]
    }
   ],
   "source": [
    "class Animal:\n",
    "    def breathe(self):\n",
    "        print('Animal breathes')\n",
    "\n",
    "class Fish(Animal):\n",
    "    def swim(self):\n",
    "        print('Fish swims')\n",
    "\n",
    "class Bird(Animal):\n",
    "    def fly(self):\n",
    "        print('Bird flies')\n",
    "\n",
    "fish = Fish()\n",
    "fish.breathe()\n",
    "fish.swim()\n",
    "\n",
    "bird = Bird()\n",
    "bird.breathe()\n",
    "bird.fly()"
   ]
  },
  {
   "cell_type": "markdown",
   "id": "060d83e5",
   "metadata": {},
   "source": [
    "# Multilevel Inheritance\n",
    "- Parent has a child, and the child has a child"
   ]
  },
  {
   "cell_type": "code",
   "execution_count": 13,
   "id": "7c1b5a49",
   "metadata": {},
   "outputs": [
    {
     "name": "stdout",
     "output_type": "stream",
     "text": [
      "He has land\n",
      "He has tractor\n",
      "He will drive tractor in the land\n"
     ]
    }
   ],
   "source": [
    "class GrandFather:\n",
    "    def property(self):\n",
    "        print('He has land')\n",
    "\n",
    "class Father(GrandFather):\n",
    "    def vehicle(self):\n",
    "        print('He has tractor')\n",
    "\n",
    "class Son(Father):\n",
    "    def drive(self):\n",
    "        print('He will drive tractor in the land')\n",
    "\n",
    "son = Son()\n",
    "son.property()\n",
    "son.vehicle()\n",
    "son.drive()"
   ]
  },
  {
   "cell_type": "markdown",
   "id": "05732eb7",
   "metadata": {},
   "source": [
    "# Hybrid Inheritance\n",
    "- Combine many types of inheritance"
   ]
  },
  {
   "cell_type": "code",
   "execution_count": 14,
   "id": "46ad4858",
   "metadata": {},
   "outputs": [
    {
     "name": "stdout",
     "output_type": "stream",
     "text": [
      "Pakistan University\n",
      "Computer Science Department\n",
      "AI Course\n",
      "Student is studying easily.\n"
     ]
    }
   ],
   "source": [
    "class University:\n",
    "    def uni_name(self):\n",
    "        print('Pakistan University')\n",
    "\n",
    "class Department(University):\n",
    "    def department_name(self):\n",
    "        print('Computer Science Department')\n",
    "\n",
    "class Course(University):\n",
    "    def course_name(self):\n",
    "        print('AI Course')\n",
    "\n",
    "class Students(Department, Course):\n",
    "    def studying(self):\n",
    "        print('Student is studying easily.')\n",
    "\n",
    "s1 = Students()\n",
    "s1.uni_name()\n",
    "s1.department_name()\n",
    "s1.course_name()\n",
    "s1.studying()"
   ]
  }
 ],
 "metadata": {
  "kernelspec": {
   "display_name": "Python 3",
   "language": "python",
   "name": "python3"
  },
  "language_info": {
   "codemirror_mode": {
    "name": "ipython",
    "version": 3
   },
   "file_extension": ".py",
   "mimetype": "text/x-python",
   "name": "python",
   "nbconvert_exporter": "python",
   "pygments_lexer": "ipython3",
   "version": "3.8.2"
  }
 },
 "nbformat": 4,
 "nbformat_minor": 5
}
