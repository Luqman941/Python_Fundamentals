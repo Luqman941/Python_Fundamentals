{
 "cells": [
  {
   "cell_type": "markdown",
   "id": "68805916",
   "metadata": {},
   "source": [
    "# Conditional Operators in Python"
   ]
  },
  {
   "cell_type": "code",
   "execution_count": 1,
   "id": "8b933039",
   "metadata": {},
   "outputs": [
    {
     "name": "stdout",
     "output_type": "stream",
     "text": [
      "False\n",
      "True\n",
      "False\n",
      "True\n",
      "False\n",
      "True\n"
     ]
    }
   ],
   "source": [
    "a = 10\n",
    "b = 20\n",
    "\n",
    "print(a == b)\n",
    "print(a != b)\n",
    "print(a > b)\n",
    "print(a < b)\n",
    "print(a >= b)\n",
    "print(a <= b)\n"
   ]
  },
  {
   "cell_type": "markdown",
   "id": "ac191cef",
   "metadata": {},
   "source": [
    "# Logical Operators\n",
    "<h5>\"and\" -> Provide True, when both/all conditions are True <br>\n",
    "\"or\" ->  Provide True, when atleast one conditions is True <br>\n",
    "\"not\" -> Negate the answer</h5>"
   ]
  },
  {
   "cell_type": "code",
   "execution_count": null,
   "id": "35941bb5",
   "metadata": {},
   "outputs": [
    {
     "name": "stdout",
     "output_type": "stream",
     "text": [
      "True\n",
      "True\n",
      "True\n"
     ]
    }
   ],
   "source": [
    "a = 10\n",
    "b = 20\n",
    "\n",
    "print(a > 0 and b > 0)\n",
    "print(a > 0 or b < 0)\n",
    "print(not(a == b))"
   ]
  },
  {
   "cell_type": "markdown",
   "id": "741e6d0f",
   "metadata": {},
   "source": [
    "# Conditional Statements\n",
    "\n",
    "<h4>If Statement</h4>"
   ]
  },
  {
   "cell_type": "code",
   "execution_count": 3,
   "id": "42e9a3a5",
   "metadata": {},
   "outputs": [
    {
     "name": "stdout",
     "output_type": "stream",
     "text": [
      "Number is greater than zero\n"
     ]
    }
   ],
   "source": [
    "number = 25\n",
    "if number > 0:\n",
    "    print('Number is greater than zero')"
   ]
  },
  {
   "cell_type": "markdown",
   "id": "308df51d",
   "metadata": {},
   "source": [
    "<h4>if - else Statement</h4>"
   ]
  },
  {
   "cell_type": "code",
   "execution_count": 4,
   "id": "abde5aa2",
   "metadata": {},
   "outputs": [
    {
     "name": "stdout",
     "output_type": "stream",
     "text": [
      "The number is negative or zero\n"
     ]
    }
   ],
   "source": [
    "number = -17\n",
    "if number > 0:\n",
    "    print('Number is positive')\n",
    "else:\n",
    "    print('The number is negative or zero')"
   ]
  },
  {
   "cell_type": "markdown",
   "id": "67cc2c6a",
   "metadata": {},
   "source": [
    "<h4> if - elif - else Statement </h4>"
   ]
  },
  {
   "cell_type": "code",
   "execution_count": 5,
   "id": "3f3997da",
   "metadata": {},
   "outputs": [
    {
     "name": "stdout",
     "output_type": "stream",
     "text": [
      "The number is zero\n"
     ]
    }
   ],
   "source": [
    "number = 0\n",
    "if number > 0:\n",
    "    print('Number is positive')\n",
    "elif number < 0:\n",
    "    print('Number is negative') \n",
    "else:\n",
    "    print('The number is zero')"
   ]
  },
  {
   "cell_type": "markdown",
   "id": "8bff94f8",
   "metadata": {},
   "source": [
    "<h4>Nested if statement (Statement within statement)</h4>"
   ]
  },
  {
   "cell_type": "code",
   "execution_count": 6,
   "id": "88106a76",
   "metadata": {},
   "outputs": [
    {
     "name": "stdout",
     "output_type": "stream",
     "text": [
      "The number is positive and Even\n"
     ]
    }
   ],
   "source": [
    "number = 4\n",
    "if number > 0:\n",
    "    if number % 2 == 0:\n",
    "        print('The number is positive and Even')\n",
    "    else:\n",
    "        print('The number is positive and odd')\n",
    "else:\n",
    "    print('The number is negative or zero')"
   ]
  },
  {
   "cell_type": "markdown",
   "id": "94bf7e39",
   "metadata": {},
   "source": [
    "### Data types with conditional statements\n",
    "\n",
    "<h4>integer data type</h4>"
   ]
  },
  {
   "cell_type": "code",
   "execution_count": 8,
   "id": "f927c268",
   "metadata": {},
   "outputs": [
    {
     "name": "stdout",
     "output_type": "stream",
     "text": [
      "The number is divisible both by 3 and 7\n"
     ]
    }
   ],
   "source": [
    "number = 21\n",
    "if number % 3 == 0 and number % 7 == 0:\n",
    "    print('The number is divisible both by 3 and 7')"
   ]
  },
  {
   "cell_type": "markdown",
   "id": "34824a13",
   "metadata": {},
   "source": [
    "<h4>float data types</h4>"
   ]
  },
  {
   "cell_type": "code",
   "execution_count": 9,
   "id": "9f6a6215",
   "metadata": {},
   "outputs": [
    {
     "name": "stdout",
     "output_type": "stream",
     "text": [
      "b is larger.\n"
     ]
    }
   ],
   "source": [
    "a = 10.5\n",
    "b = 15.8\n",
    "if a > b:\n",
    "    print(\"a is larger.\")\n",
    "else:\n",
    "    print(\"b is larger.\")"
   ]
  },
  {
   "cell_type": "markdown",
   "id": "4e2068b8",
   "metadata": {},
   "source": [
    "<h4>string data type</h4>"
   ]
  },
  {
   "cell_type": "code",
   "execution_count": 10,
   "id": "0824f025",
   "metadata": {},
   "outputs": [
    {
     "name": "stdout",
     "output_type": "stream",
     "text": [
      "The word contains Pak\n"
     ]
    }
   ],
   "source": [
    "word = 'Pakistan'\n",
    "if 'Pak' in word:\n",
    "    print('The word contains Pak')"
   ]
  },
  {
   "cell_type": "markdown",
   "id": "84354bda",
   "metadata": {},
   "source": [
    "<h4>boolean data type</h4>"
   ]
  },
  {
   "cell_type": "code",
   "execution_count": 11,
   "id": "ec296cfe",
   "metadata": {},
   "outputs": [
    {
     "name": "stdout",
     "output_type": "stream",
     "text": [
      "The condition is True.\n"
     ]
    }
   ],
   "source": [
    "flag = True\n",
    "if flag:\n",
    "    print(\"The condition is True.\")\n",
    "else:\n",
    "    print(\"The condition is False.\")\n"
   ]
  },
  {
   "cell_type": "markdown",
   "id": "cbaef33f",
   "metadata": {},
   "source": [
    "<h4>list data type</h4>"
   ]
  },
  {
   "cell_type": "code",
   "execution_count": 12,
   "id": "0f2822bc",
   "metadata": {},
   "outputs": [
    {
     "name": "stdout",
     "output_type": "stream",
     "text": [
      "The list contains the number 8\n"
     ]
    }
   ],
   "source": [
    "my_list = [6,7,8,9,10]\n",
    "if 8 in my_list:\n",
    "    print('The list contains the number 8')"
   ]
  },
  {
   "cell_type": "markdown",
   "id": "2eb2f802",
   "metadata": {},
   "source": [
    "<h4>tuple data type</h4>"
   ]
  },
  {
   "cell_type": "code",
   "execution_count": 13,
   "id": "dfcfb64c",
   "metadata": {},
   "outputs": [
    {
     "name": "stdout",
     "output_type": "stream",
     "text": [
      "Both tuples are identical.\n"
     ]
    }
   ],
   "source": [
    "tuple1 = (5,6,7)\n",
    "tuple2 = (5,6,7)\n",
    "if tuple1 == tuple2:\n",
    "    print(\"Both tuples are identical.\")\n",
    "else:\n",
    "    print(\"The tuples are different.\")"
   ]
  },
  {
   "cell_type": "markdown",
   "id": "7197faf6",
   "metadata": {},
   "source": [
    "<h4> dictionary data type </h4>"
   ]
  },
  {
   "cell_type": "code",
   "execution_count": 14,
   "id": "4c100047",
   "metadata": {},
   "outputs": [
    {
     "name": "stdout",
     "output_type": "stream",
     "text": [
      "The key 'name' exists in the dictionary.\n"
     ]
    }
   ],
   "source": [
    "my_dict = {'name': 'Luqman', 'age': 25}\n",
    "if 'name' in my_dict:\n",
    "    print(\"The key 'name' exists in the dictionary.\")"
   ]
  }
 ],
 "metadata": {
  "kernelspec": {
   "display_name": "Python 3",
   "language": "python",
   "name": "python3"
  },
  "language_info": {
   "codemirror_mode": {
    "name": "ipython",
    "version": 3
   },
   "file_extension": ".py",
   "mimetype": "text/x-python",
   "name": "python",
   "nbconvert_exporter": "python",
   "pygments_lexer": "ipython3",
   "version": "3.8.2"
  }
 },
 "nbformat": 4,
 "nbformat_minor": 5
}
