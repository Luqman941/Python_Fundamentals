{
 "cells": [
  {
   "cell_type": "markdown",
   "id": "fcbbd691",
   "metadata": {},
   "source": [
    "# OOP\n",
    "## Inheritance, method overriding and super()\n",
    "\n",
    "#### **Inheritance:** Allows child classes to inherit properties and behaviors from a parent class, providing reusable class structures\n",
    "\n",
    "### **Example:** Library System\n",
    "1. Define a parent class `Book` with attributes like `title`, `author`, `ISBN`, and a method `get_details()` to print details.\n",
    "2. Create child classes `FictionBook` and `NonFictionBook` with extra attributes (genre and subject, respectively).\n",
    "3. Override `get_details()` to include the new attributes.\n"
   ]
  },
  {
   "cell_type": "code",
   "execution_count": 1,
   "id": "a4d982be",
   "metadata": {},
   "outputs": [
    {
     "name": "stdout",
     "output_type": "stream",
     "text": [
      "Title: Harry Poter, Author: John, ISBN: 133-789456, Genre: Dystopian\n",
      "Title: Bal-e-Jibreel, Author: Allama Iqbal, ISBN: 456-845678, Subject: Poetry\n"
     ]
    }
   ],
   "source": [
    "class Book:\n",
    "    def __init__(self, title, author, ISBN):\n",
    "        self.title = title\n",
    "        self.author = author\n",
    "        self.ISBN = ISBN\n",
    "\n",
    "    def get_details(self):\n",
    "        return f'Title: {self.title}, Author: {self.author}, ISBN: {self.ISBN}'\n",
    "\n",
    "# Child Class\n",
    "class FictionBook(Book):\n",
    "    def __init__(self, title, author, ISBN, genre):\n",
    "        super().__init__(title, author, ISBN)\n",
    "        self.genre = genre\n",
    "\n",
    "    def get_details(self):\n",
    "        return f'{super().get_details()}, Genre: {self.genre}'\n",
    "\n",
    "# Child Class\n",
    "class NonFictionBook(Book):\n",
    "    def __init__(self, title, author, ISBN, subject):\n",
    "        super().__init__(title, author, ISBN)\n",
    "        self.subject = subject\n",
    "\n",
    "    def get_details(self):\n",
    "       return f'{super().get_details()}, Subject: {self.subject}'\n",
    "# Creating objects\n",
    "fiction_book = FictionBook('Harry Poter', 'John', '133-789456', 'Dystopian')\n",
    "non_fiction_book = NonFictionBook('Bal-e-Jibreel','Allama Iqbal', '456-845678', 'Poetry')\n",
    "\n",
    "print(fiction_book.get_details())\n",
    "print(non_fiction_book.get_details())"
   ]
  },
  {
   "cell_type": "markdown",
   "id": "b65c389a",
   "metadata": {},
   "source": [
    "<h4>Accessing method of parent class with the object of child class</h4>"
   ]
  },
  {
   "cell_type": "code",
   "execution_count": 2,
   "id": "253ebfe1",
   "metadata": {},
   "outputs": [
    {
     "name": "stdout",
     "output_type": "stream",
     "text": [
      "Class B\n",
      "Class A get data\n"
     ]
    }
   ],
   "source": [
    "class A:\n",
    "    def get_data(self):\n",
    "        print('Class A get data')\n",
    "\n",
    "class B(A):\n",
    "    def __init__(self):\n",
    "        super().__init__()\n",
    "        print('Class B')\n",
    "\n",
    "b = B()\n",
    "b.get_data()"
   ]
  },
  {
   "cell_type": "markdown",
   "id": "b85bb15c",
   "metadata": {},
   "source": [
    "<h4>EBook child class of Book</h4>"
   ]
  },
  {
   "cell_type": "code",
   "execution_count": 5,
   "id": "a7a0394a",
   "metadata": {},
   "outputs": [
    {
     "name": "stdout",
     "output_type": "stream",
     "text": [
      "Title: Electronic Book, Author: Bell John, ISBN: 764-654987\n"
     ]
    },
    {
     "data": {
      "text/plain": [
       "True"
      ]
     },
     "execution_count": 5,
     "metadata": {},
     "output_type": "execute_result"
    }
   ],
   "source": [
    "class EBook(Book):\n",
    "    def is_available(self):\n",
    "        return True\n",
    "    \n",
    "ebook = EBook('Electronic Book', 'Bell John', '764-654987')\n",
    "print(ebook.get_details())\n",
    "ebook.is_available()"
   ]
  },
  {
   "cell_type": "markdown",
   "id": "39b38d3b",
   "metadata": {},
   "source": [
    "## Overriding parent class methods & using super()\n",
    "\n",
    "Overriding allows a child class to redefine methods from its parent class. The `super()` function allows calling the parent's method inside the overriding method for extended functionality.\n",
    "\n",
    "### **Example:** Bank System\n",
    "1. Create a parent class `Account` with attributes like `owner_name`, `balance`, and methods `deposit(amount)` and `withdraw(amount)`.\n",
    "2. Create child classes `SavingsAccount` and `CheckingAccount`. \n",
    "   - In `SavingsAccount`, enforce a minimum balance.\n",
    "   - In `CheckingAccount`, implement an overdraft limit.\n",
    "3. Override the `withdraw()` method to reflect these behaviors."
   ]
  },
  {
   "cell_type": "code",
   "execution_count": 10,
   "id": "0442d8b8",
   "metadata": {},
   "outputs": [
    {
     "name": "stdout",
     "output_type": "stream",
     "text": [
      "Cannot withdraw 600. Minimum balance of 500 must be maintained.\n",
      "500 withdrawn. New balance is 500\n",
      "Withdrew 1300, New balance is -300\n",
      "Cannot withdraw 500. Overdraft limit of 300 exceeded.\n"
     ]
    }
   ],
   "source": [
    "class Account:\n",
    "    def __init__(self, owner_name, balance):\n",
    "        self.owner_name = owner_name\n",
    "        self.balance = balance\n",
    "\n",
    "    def deposit(self, amount):\n",
    "        if amount < 0:\n",
    "            print('Amount must be positive value')\n",
    "        else:\n",
    "            self.balance += amount\n",
    "            print(f'{amount} deposited. New balance is {self.balance}')\n",
    "\n",
    "    def withdraw(self, amount):\n",
    "        if amount > self.balance:\n",
    "            print(f'Insufficient Balance. Your balance is {self.balance}')\n",
    "        else:\n",
    "            self.balance -= amount\n",
    "            print(f'{amount} withdrawn. New balance is {self.balance}')\n",
    "\n",
    "# Child Class\n",
    "class SavingAccount(Account):\n",
    "    def __init__(self, owner_name, balance, min_balance):\n",
    "        super().__init__(owner_name, balance)\n",
    "        self.min_balance = min_balance\n",
    "\n",
    "    def withdraw(self, amount):\n",
    "        if self.balance - amount < self.min_balance:\n",
    "            print(f'Cannot withdraw {amount}. Minimum balance of {self.min_balance} must be maintained.')\n",
    "        else:\n",
    "            super().withdraw(amount)\n",
    "\n",
    "# Child Class\n",
    "class CheckingAccount(Account):\n",
    "    def __init__(self, owner_name, balance, overdraft_limit):\n",
    "        super().__init__(owner_name, balance)\n",
    "        self.overdraft_limit = overdraft_limit\n",
    "\n",
    "    def withdraw(self, amount):\n",
    "        if self.balance - amount < - self.overdraft_limit:\n",
    "            print(f'Cannot withdraw {amount}. Overdraft limit of {self.overdraft_limit} exceeded.')\n",
    "        else:\n",
    "            self.balance -= amount\n",
    "            print(f'Withdrew {amount}, New balance is {self.balance}')\n",
    "\n",
    "# Creating object\n",
    "savings = SavingAccount('Luqman', 1000, 500)\n",
    "savings.withdraw(600)\n",
    "savings.withdraw(500)\n",
    "\n",
    "checking = CheckingAccount('Ali', 1000, 300)\n",
    "checking.withdraw(1300)\n",
    "checking.withdraw(500)"
   ]
  },
  {
   "cell_type": "markdown",
   "id": "86390cdc",
   "metadata": {},
   "source": [
    "# Hybrid Inheritance"
   ]
  },
  {
   "cell_type": "code",
   "execution_count": 2,
   "id": "2b96b15f",
   "metadata": {},
   "outputs": [
    {
     "name": "stdout",
     "output_type": "stream",
     "text": [
      "Name: John, Salary: 8000, Specialization: Software Development, Department: IT\n"
     ]
    }
   ],
   "source": [
    "# Parent Class: Employee\n",
    "class Employee:\n",
    "    def __init__(self, name, salary, **kwargs):\n",
    "        self.name = name\n",
    "        self.salary = salary\n",
    "        super().__init__(**kwargs)\n",
    "\n",
    "    def get_details(self):\n",
    "        return f\"Name: {self.name}, Salary: {self.salary}\"\n",
    "\n",
    "# Child Class: Manager\n",
    "class Manager(Employee):\n",
    "    def __init__(self, department, **kwargs):\n",
    "        self.department = department\n",
    "        super().__init__(**kwargs)\n",
    "\n",
    "    def get_details(self):\n",
    "        return f\"{super().get_details()}, Department: {self.department}\"\n",
    "\n",
    "# Child Class: Engineer\n",
    "class Engineer(Employee):\n",
    "    def __init__(self, specialization, **kwargs):\n",
    "        self.specialization = specialization\n",
    "        super().__init__(**kwargs)\n",
    "\n",
    "    def get_details(self):\n",
    "        return f\"{super().get_details()}, Specialization: {self.specialization}\"\n",
    "\n",
    "# Class: TeamLead (Hybrid Inheritance)\n",
    "class TeamLead(Manager, Engineer):\n",
    "    def __init__(self, name, salary, department, specialization):\n",
    "        super().__init__(\n",
    "            name=name,\n",
    "            salary=salary,\n",
    "            department=department,\n",
    "            specialization=specialization\n",
    "        )\n",
    "\n",
    "    def get_details(self):\n",
    "        return super().get_details()\n",
    "\n",
    "# Testing\n",
    "lead = TeamLead(\"John\", 8000, \"IT\", \"Software Development\")\n",
    "print(lead.get_details())  # Output: Name: John, Salary: 8000, Department: IT, Specialization: Software Development"
   ]
  },
  {
   "cell_type": "markdown",
   "id": "e8e5ac83",
   "metadata": {},
   "source": [
    "# Bank Account ATM \n",
    "\n",
    "### Bank Account"
   ]
  },
  {
   "cell_type": "code",
   "execution_count": 3,
   "id": "bd2fb87b",
   "metadata": {},
   "outputs": [],
   "source": [
    "class BankAccount:\n",
    "    def __init__(self, account_no, balance):\n",
    "        self.account_no = account_no\n",
    "        self.balance = balance\n",
    "        \n",
    "    def deposite(self, amount):\n",
    "        if amount > 0:\n",
    "            self.balance += amount\n",
    "            print(f'Deposited {amount}, New balance = {self.balance}')\n",
    "        else:\n",
    "            print('Amount must be positive')\n",
    "\n",
    "    def withdraw(self, amount):\n",
    "        if amount > 0 and amount <= self.balance:\n",
    "            self.balance -= amount\n",
    "            print(f'Withdrew {amount}, New balance = {self.balance}')\n",
    "        else:\n",
    "            print('Invalid amount or Insufficient funds')\n",
    "\n",
    "    def check_balance(self):\n",
    "        print(f'Current balance is {self.balance}')"
   ]
  },
  {
   "cell_type": "markdown",
   "id": "efe68fab",
   "metadata": {},
   "source": [
    "ATM (Child Class)"
   ]
  },
  {
   "cell_type": "code",
   "execution_count": 20,
   "id": "66f6a60e",
   "metadata": {},
   "outputs": [],
   "source": [
    "class ATM(BankAccount):\n",
    "    def __init__(self, account_no, balance=0):\n",
    "        super().__init__(account_no, balance)\n",
    "        self.pin = ''\n",
    "\n",
    "    def set_pin(self, pin):\n",
    "        self.pin = pin\n",
    "        print('PIN set successfully')\n",
    "\n",
    "    def validate_pin(self, pin):\n",
    "        if pin == self.pin:\n",
    "            return True\n",
    "        else:\n",
    "            print('Invalid PIN')\n",
    "            return False\n",
    "        \n",
    "    def ATM_deposite(self, amount, pin):\n",
    "        if self.validate_pin(pin):\n",
    "            self.deposite(amount)\n",
    "\n",
    "    def ATM_withdraw(self,amount,pin):\n",
    "        if self.validate_pin(pin):\n",
    "            self.withdraw(amount)\n",
    "\n",
    "    def ATM_check_balance(self, pin):\n",
    "        if self.validate_pin(pin):\n",
    "            self.check_balance()"
   ]
  },
  {
   "cell_type": "markdown",
   "id": "f0d77510",
   "metadata": {},
   "source": [
    "### Creating object of ATM"
   ]
  },
  {
   "cell_type": "code",
   "execution_count": 21,
   "id": "aa9dbf26",
   "metadata": {},
   "outputs": [
    {
     "name": "stdout",
     "output_type": "stream",
     "text": [
      "PIN set successfully\n"
     ]
    }
   ],
   "source": [
    "account = ATM('A32Y564', 30000)\n",
    "account.set_pin('1122')"
   ]
  },
  {
   "cell_type": "code",
   "execution_count": 23,
   "id": "4575a780",
   "metadata": {},
   "outputs": [
    {
     "name": "stdout",
     "output_type": "stream",
     "text": [
      "Deposited 4000, New balance = 38000\n",
      "Withdrew 20000, New balance = 18000\n",
      "Current balance is 18000\n"
     ]
    }
   ],
   "source": [
    "account.ATM_deposite(4000,'1122')\n",
    "account.ATM_withdraw(20000, '1122')\n",
    "account.ATM_check_balance('1122')"
   ]
  }
 ],
 "metadata": {
  "kernelspec": {
   "display_name": "Python 3",
   "language": "python",
   "name": "python3"
  },
  "language_info": {
   "codemirror_mode": {
    "name": "ipython",
    "version": 3
   },
   "file_extension": ".py",
   "mimetype": "text/x-python",
   "name": "python",
   "nbconvert_exporter": "python",
   "pygments_lexer": "ipython3",
   "version": "3.8.2"
  }
 },
 "nbformat": 4,
 "nbformat_minor": 5
}
