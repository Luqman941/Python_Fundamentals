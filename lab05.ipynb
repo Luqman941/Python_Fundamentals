{
 "cells": [
  {
   "cell_type": "markdown",
   "id": "5a2f6234",
   "metadata": {},
   "source": [
    "## OOP (Object Oriented Programming)\n",
    "## Class in Python\n",
    "- Student class with attributes and method of editvalue"
   ]
  },
  {
   "cell_type": "code",
   "execution_count": null,
   "id": "6d417ce3",
   "metadata": {},
   "outputs": [
    {
     "name": "stdout",
     "output_type": "stream",
     "text": [
      "Student name is Luqman, age: 26, and grade is: 12 class\n",
      "Student name is Ali, age: 17, and grade is: 9 class\n"
     ]
    }
   ],
   "source": [
    "class Student:\n",
    "    def __init__(self, name, age, grade):   # Constructor of the Class\n",
    "        self.name = name\n",
    "        self.age = age\n",
    "        self.grade =grade\n",
    "\n",
    "    def editvalue(self):\n",
    "        self.name = input('Enter your name: ')\n",
    "    \n",
    "student1 = Student('Luqman', 26, '12 class')    # Object of the Class\n",
    "student2 = Student('Ali', 17, '9 class')\n",
    "print(f'Student name is {student1.name}, age: {student1.age}, and grade is: {student1.grade}')\n",
    "print(f'Student name is {student2.name}, age: {student2.age}, and grade is: {student2.grade}')\n",
    "student1.editvalue()\n",
    "student2.editvalue()"
   ]
  },
  {
   "cell_type": "code",
   "execution_count": null,
   "id": "8badecfc",
   "metadata": {},
   "outputs": [
    {
     "name": "stdout",
     "output_type": "stream",
     "text": [
      "ali zafar\n"
     ]
    }
   ],
   "source": [
    "student3 = student1\n",
    "print(student3.name)"
   ]
  },
  {
   "cell_type": "markdown",
   "id": "95cd02be",
   "metadata": {},
   "source": [
    "<h4>Car class with attributes and method of start_engine </h4>"
   ]
  },
  {
   "cell_type": "code",
   "execution_count": null,
   "id": "8268cc58",
   "metadata": {},
   "outputs": [
    {
     "name": "stdout",
     "output_type": "stream",
     "text": [
      "The engine of 2025 Toyota Corolla has started.\n"
     ]
    }
   ],
   "source": [
    "class Car:\n",
    "    def __init__(self, make, model, year):\n",
    "        self.make = make\n",
    "        self.model = model\n",
    "        self.year = year\n",
    "\n",
    "    def start_engine(self):\n",
    "        print(f'The engine of {self.year} {self.make} {self.model} has started.')\n",
    "\n",
    "my_car = Car('Toyota', 'Corolla', '2025')\n",
    "my_car.start_engine()"
   ]
  },
  {
   "cell_type": "markdown",
   "id": "8f5dcf89",
   "metadata": {},
   "source": [
    "# Class attributes & Instance attributes\n",
    "- **Class attribute:** Common to all instances/objects\n",
    "- **Instance attribute:** specific to each object"
   ]
  },
  {
   "cell_type": "code",
   "execution_count": null,
   "id": "431463d9",
   "metadata": {},
   "outputs": [
    {
     "name": "stdout",
     "output_type": "stream",
     "text": [
      "Car 1: Honda Civic has 4 wheels\n",
      "Car 2: Porsh Ferrari has 4 wheels\n"
     ]
    }
   ],
   "source": [
    "class Car:\n",
    "    wheels = 4       # Class Attribute\n",
    "    def __init__(self, make, model):\n",
    "        # instance attributes\n",
    "        self.make = make\n",
    "        self.model = model\n",
    "\n",
    "car1 = Car('Honda', 'Civic')\n",
    "car2 = Car('Porshe', 'Ferrari')\n",
    "c1 = Car\n",
    "print(f'Car 1: {car1.make} {car1.model} has {Car.wheels} wheels')\n",
    "print(f'Car 2: {car2.make} {car2.model} has {c1.wheels} wheels')"
   ]
  },
  {
   "cell_type": "markdown",
   "id": "b480e8a7",
   "metadata": {},
   "source": [
    "# Instance method\n",
    "- Instance method work on instance attributes"
   ]
  },
  {
   "cell_type": "code",
   "execution_count": null,
   "id": "19c26641",
   "metadata": {},
   "outputs": [
    {
     "name": "stdout",
     "output_type": "stream",
     "text": [
      "Name Luqman , Age: 26\n"
     ]
    }
   ],
   "source": [
    "class Person:\n",
    "    def __init__(self, name, age):\n",
    "        self.name = name \n",
    "        self.age = age\n",
    "\n",
    "    def display_info(self):     # instance method\n",
    "        print(f'Name {self.name} , Age: {self.age}')\n",
    "\n",
    "person1 = Person('Luqman', 26)\n",
    "person1.display_info()"
   ]
  },
  {
   "cell_type": "markdown",
   "id": "c8304995",
   "metadata": {},
   "source": [
    "# Class method\n",
    "- Class method work on class attributes\n",
    "- belongs to class"
   ]
  },
  {
   "cell_type": "code",
   "execution_count": null,
   "id": "3780b408",
   "metadata": {},
   "outputs": [
    {
     "name": "stdout",
     "output_type": "stream",
     "text": [
      "Welcome to KUST\n"
     ]
    }
   ],
   "source": [
    "class University:\n",
    "    university_name = 'KUST'\n",
    "\n",
    "    @classmethod\n",
    "    def display_welcome(cls):\n",
    "        print(f'Welcome to {University.university_name}')\n",
    "\n",
    "University.display_welcome()"
   ]
  },
  {
   "cell_type": "markdown",
   "id": "05db9e4c",
   "metadata": {},
   "source": [
    "# Static method\n",
    "- They do not modify class & instance attributes\n",
    "- They are utility methods that can be called on class itself"
   ]
  },
  {
   "cell_type": "code",
   "execution_count": null,
   "id": "8c0a6651",
   "metadata": {},
   "outputs": [
    {
     "name": "stdout",
     "output_type": "stream",
     "text": [
      "Is 30 an adult? True\n",
      "Is 16 an adult? False\n"
     ]
    }
   ],
   "source": [
    "class Person:\n",
    "    def __init__(self, name, age):\n",
    "        self.name = name\n",
    "        self.age = age\n",
    "    @staticmethod\n",
    "    def is_adult(age):      # static method\n",
    "        return age >=18\n",
    "\n",
    "print(f'Is 30 an adult? {Person.is_adult(36)}')\n",
    "print(f'Is 16 an adult? {Person.is_adult(16)}')"
   ]
  },
  {
   "cell_type": "markdown",
   "id": "49a612cb",
   "metadata": {},
   "source": [
    "# Combining all concepts\n",
    "- Creating a BankAccount class with class attribute of bank_name & instance attribute of owner and balance\n",
    "- Class will hold instance methods of deposite and withdraw\n",
    "- Class will keep class method of display_bank\n",
    "- Class will also have static method of validate method"
   ]
  },
  {
   "cell_type": "code",
   "execution_count": null,
   "id": "27b84e44",
   "metadata": {},
   "outputs": [
    {
     "name": "stdout",
     "output_type": "stream",
     "text": [
      "5000 deposited. New Balance is 45000\n",
      "10000 withdrawn. New Balance is 35000\n",
      "Bank: Russian State Bank\n",
      "is 500 a valid amount? True\n",
      "is -100 a valid amount? False\n"
     ]
    }
   ],
   "source": [
    "class BankAccount:\n",
    "    bank_name = 'Russian State Bank'\n",
    "\n",
    "    def __init__(self, owner, balance):\n",
    "        self.owner = owner\n",
    "        self.balance = balance\n",
    "\n",
    "    def deposite(self, amount):\n",
    "        self.balance += amount\n",
    "        print(f'{amount} deposited. New Balance is {self.balance}')\n",
    "\n",
    "    def withdraw(self, amount):\n",
    "        if amount > self.balance:\n",
    "            print(f'Insufficient Balance! Your current balance is {self.balance}')\n",
    "        else:\n",
    "            self.balance -= amount\n",
    "            print(f'{amount} withdrawn. New Balance is {self.balance}')\n",
    "    \n",
    "    # Class method to display bank name\n",
    "    @classmethod\n",
    "    def display_bank(cls):\n",
    "        print(f'Bank: {cls.bank_name}')\n",
    "\n",
    "    # static method to validate transaction amount\n",
    "    @staticmethod\n",
    "    def validate_amount(amount):\n",
    "        return amount > 0\n",
    "\n",
    "# Creating object    \n",
    "account = BankAccount('Luqman', 40000)\n",
    "account.deposite(5000)\n",
    "account.withdraw(10000)\n",
    "BankAccount.display_bank()\n",
    "\n",
    "# Validate a transaction\n",
    "print(f'is 500 a valid amount? {BankAccount.validate_amount(500)}')\n",
    "print(f'is -100 a valid amount? {BankAccount.validate_amount(-100)}')"
   ]
  }
 ],
 "metadata": {
  "kernelspec": {
   "display_name": "Python 3",
   "language": "python",
   "name": "python3"
  },
  "language_info": {
   "codemirror_mode": {
    "name": "ipython",
    "version": 3
   },
   "file_extension": ".py",
   "mimetype": "text/x-python",
   "name": "python",
   "nbconvert_exporter": "python",
   "pygments_lexer": "ipython3",
   "version": "3.8.2"
  }
 },
 "nbformat": 4,
 "nbformat_minor": 5
}
