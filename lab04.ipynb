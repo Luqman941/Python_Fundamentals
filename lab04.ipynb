{
 "cells": [
  {
   "cell_type": "markdown",
   "id": "136a1714",
   "metadata": {},
   "source": [
    "# Functions in Python\n",
    "- **Function:** Reusable block of code to do specific task\n",
    "- Organize code into manageable parts\n",
    "- Making code cleaner & maintable\n",
    "- Reduce redundancy & promote code reusability"
   ]
  },
  {
   "cell_type": "markdown",
   "id": "e8aba366",
   "metadata": {},
   "source": [
    " ### Creating function with arguments"
   ]
  },
  {
   "cell_type": "code",
   "execution_count": 2,
   "id": "a85f8aa9",
   "metadata": {},
   "outputs": [
    {
     "name": "stdout",
     "output_type": "stream",
     "text": [
      "8\n"
     ]
    }
   ],
   "source": [
    "def add(a, b):     # creating function\n",
    "    return a+b\n",
    "\n",
    "result = add(3,5)  # calling function\n",
    "print(result)"
   ]
  },
  {
   "cell_type": "code",
   "execution_count": 2,
   "id": "44a4f208",
   "metadata": {},
   "outputs": [
    {
     "name": "stdout",
     "output_type": "stream",
     "text": [
      "20\n"
     ]
    }
   ],
   "source": [
    "def multiply(x,y):\n",
    "    return x * y\n",
    "\n",
    "product = multiply(4, 5)\n",
    "print(product)"
   ]
  },
  {
   "cell_type": "markdown",
   "id": "6b0887c9",
   "metadata": {},
   "source": [
    "<h3>function with Positional arguments</h3>"
   ]
  },
  {
   "cell_type": "code",
   "execution_count": null,
   "id": "3415ca5e",
   "metadata": {},
   "outputs": [
    {
     "name": "stdout",
     "output_type": "stream",
     "text": [
      "bob is 18 years old\n",
      "bob is 30 years old\n"
     ]
    }
   ],
   "source": [
    "def greet(name, age=18):\n",
    "    print(f'{name} is {age} years old')\n",
    "greet('bob')\n",
    "greet('bob', age=30)    # name is positional argument, age is Keyword argument"
   ]
  },
  {
   "cell_type": "code",
   "execution_count": 13,
   "id": "921c0516",
   "metadata": {},
   "outputs": [
    {
     "name": "stdout",
     "output_type": "stream",
     "text": [
      "Ayesha is in grade 8\n",
      "Ali is in grade 10\n"
     ]
    }
   ],
   "source": [
    "def student_info(name, grade):\n",
    "    print(f'{name} is in grade {grade}')\n",
    "\n",
    "student_info(name='Ayesha', grade=8)\n",
    "student_info(grade=10, name='Ali')"
   ]
  },
  {
   "cell_type": "markdown",
   "id": "d31ee6e3",
   "metadata": {},
   "source": [
    "# Variable length arguments \n",
    "<h4> Non-Keyworded Arguments (*args) <h4>\n",
    "\n",
    "- Allow to accept any number of positional arguments"
   ]
  },
  {
   "cell_type": "code",
   "execution_count": 7,
   "id": "9d20d8cb",
   "metadata": {},
   "outputs": [
    {
     "name": "stdout",
     "output_type": "stream",
     "text": [
      "Hello Ali\n",
      "Hello Ayesha\n",
      "Hello Sara\n"
     ]
    }
   ],
   "source": [
    "def say_hello(*names):  # *name works as a tuple\n",
    "    for name in names:\n",
    "        print(f'Hello {name}')\n",
    "\n",
    "say_hello('Ali', 'Ayesha', 'Sara')  # positional arguments"
   ]
  },
  {
   "cell_type": "markdown",
   "id": "370790cb",
   "metadata": {},
   "source": [
    "<h4> Keyworded Arguments (**args) </h4>"
   ]
  },
  {
   "cell_type": "code",
   "execution_count": null,
   "id": "8722077c",
   "metadata": {},
   "outputs": [
    {
     "name": "stdout",
     "output_type": "stream",
     "text": [
      "name = Ali\n",
      "age = 20\n"
     ]
    }
   ],
   "source": [
    "def show_info(**details):   # **details works as a dictionary\n",
    "    for key, value in details.items():\n",
    "        print(f'{key} = {value}')\n",
    "\n",
    "show_info(name='Ali', age=20)   # passing keyword arguments"
   ]
  },
  {
   "cell_type": "markdown",
   "id": "bcce0c74",
   "metadata": {},
   "source": [
    "# Global & Local Variable\n",
    "- **Global Variables:** Defined outside functions, accessible anywhere.\n",
    "- **Local Variables:** Defined inside functions, accessible only within that function."
   ]
  },
  {
   "cell_type": "code",
   "execution_count": 12,
   "id": "8a541303",
   "metadata": {},
   "outputs": [
    {
     "name": "stdout",
     "output_type": "stream",
     "text": [
      "15\n"
     ]
    }
   ],
   "source": [
    "global_var = 15\n",
    "\n",
    "def my_func():\n",
    "    local_var = 5\n",
    "    print(global_var)\n",
    "\n",
    "my_func()\n",
    "# print(local_var) # Cannot access outside function"
   ]
  }
 ],
 "metadata": {
  "kernelspec": {
   "display_name": "Python 3",
   "language": "python",
   "name": "python3"
  },
  "language_info": {
   "codemirror_mode": {
    "name": "ipython",
    "version": 3
   },
   "file_extension": ".py",
   "mimetype": "text/x-python",
   "name": "python",
   "nbconvert_exporter": "python",
   "pygments_lexer": "ipython3",
   "version": "3.8.2"
  }
 },
 "nbformat": 4,
 "nbformat_minor": 5
}
