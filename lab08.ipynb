{
 "cells": [
  {
   "cell_type": "markdown",
   "id": "c9fb0ac0",
   "metadata": {},
   "source": [
    "# OOP\n",
    "## Polymorphism\n",
    "- Poly means many, morph means form\n",
    "- Same function but different behavior according to instances"
   ]
  },
  {
   "cell_type": "code",
   "execution_count": 1,
   "id": "60aba731",
   "metadata": {},
   "outputs": [
    {
     "name": "stdout",
     "output_type": "stream",
     "text": [
      "Dog says: Woof Woof!\n",
      "Cat says: Meow!\n"
     ]
    }
   ],
   "source": [
    "class Dog:\n",
    "    def speak(self):\n",
    "        print('Dog says: Woof Woof!')\n",
    "\n",
    "class Cat:\n",
    "    def speak(self):\n",
    "        print('Cat says: Meow!')\n",
    "\n",
    "def animal_speak(animal):\n",
    "    animal.speak()\n",
    "\n",
    "dog = Dog()\n",
    "cat = Cat()\n",
    "\n",
    "animal_speak(dog)\n",
    "animal_speak(cat)"
   ]
  },
  {
   "cell_type": "markdown",
   "id": "2a3bbf5a",
   "metadata": {},
   "source": [
    "### Method overloading"
   ]
  },
  {
   "cell_type": "code",
   "execution_count": 6,
   "id": "31c09587",
   "metadata": {},
   "outputs": [
    {
     "name": "stdout",
     "output_type": "stream",
     "text": [
      "50\n",
      "100\n",
      "150\n"
     ]
    }
   ],
   "source": [
    "class Calculator:\n",
    "    # Method overriding using default arguments\n",
    "    def addition(self, x, y=0, z=0):\n",
    "        print(x+y+z)\n",
    "    \n",
    "calc = Calculator()\n",
    "\n",
    "calc.addition(50)\n",
    "calc.addition(70,30)\n",
    "calc.addition(50,50,50)"
   ]
  },
  {
   "cell_type": "markdown",
   "id": "35b26cd4",
   "metadata": {},
   "source": [
    "### Operator Overloading"
   ]
  },
  {
   "cell_type": "code",
   "execution_count": 7,
   "id": "ba904194",
   "metadata": {},
   "outputs": [
    {
     "name": "stdout",
     "output_type": "stream",
     "text": [
      "70\n"
     ]
    }
   ],
   "source": [
    "class Book:\n",
    "    def __init__(self, pages):\n",
    "        self.pages = pages\n",
    "        \n",
    "    # operator overloading with __add__\n",
    "    def __add__(self, other):\n",
    "        return self.pages + other.pages\n",
    "\n",
    "b1 = Book(30)\n",
    "b2 = Book(40)\n",
    "\n",
    "print(b1+b2)"
   ]
  },
  {
   "cell_type": "markdown",
   "id": "262cf0db",
   "metadata": {},
   "source": [
    "### Method Overriding"
   ]
  },
  {
   "cell_type": "code",
   "execution_count": null,
   "id": "38ab475c",
   "metadata": {},
   "outputs": [
    {
     "name": "stdout",
     "output_type": "stream",
     "text": [
      "Lion roar!\n"
     ]
    }
   ],
   "source": [
    "class Animal:\n",
    "    def sound(self):\n",
    "        print('Make Sound')\n",
    "\n",
    "class Lion(Animal):\n",
    "    def sound(self):        # overrided method\n",
    "        print('Lion roar!')\n",
    "\n",
    "lion = Lion()\n",
    "\n",
    "lion.sound()"
   ]
  },
  {
   "cell_type": "markdown",
   "id": "35f3a698",
   "metadata": {},
   "source": [
    "### Duck Typing"
   ]
  },
  {
   "cell_type": "code",
   "execution_count": 1,
   "id": "308b2dbd",
   "metadata": {},
   "outputs": [
    {
     "name": "stdout",
     "output_type": "stream",
     "text": [
      "Duck speak:Quack Quack!\n",
      "Human speak: English or other languages\n"
     ]
    }
   ],
   "source": [
    "class Duck:\n",
    "    def speak(self):\n",
    "        print('Duck speak:Quack Quack!')\n",
    "\n",
    "class Human:\n",
    "    def speak(self):\n",
    "        print('Human speak: English or other languages')\n",
    "\n",
    "def sound(entity):  # Function will call speak() function based on instance\n",
    "    entity.speak()\n",
    "\n",
    "duck = Duck()\n",
    "human = Human()\n",
    "\n",
    "sound(duck)\n",
    "sound(human)"
   ]
  },
  {
   "cell_type": "markdown",
   "id": "b7b110de",
   "metadata": {},
   "source": [
    "# Encapsulation\n",
    "- hiding data/attribute of a class\n",
    "- using access modifier like private"
   ]
  },
  {
   "cell_type": "code",
   "execution_count": 40,
   "id": "e724f9d4",
   "metadata": {},
   "outputs": [
    {
     "name": "stdout",
     "output_type": "stream",
     "text": [
      "Deposited 5000\n",
      "Withdrew 4000\n",
      "Current balance is 11000\n"
     ]
    }
   ],
   "source": [
    "class BankAccount:\n",
    "    def __init__(self, owner, balance=0):\n",
    "        self.owner = owner\n",
    "        # Private Variable, Can't be accessed directly outside class\n",
    "        self.__balance = balance\n",
    "\n",
    "    def deposite(self, amount):\n",
    "        if amount>0:\n",
    "            self.__balance += amount\n",
    "            print(f'Deposited {amount}')\n",
    "        else:\n",
    "            print('Invalid amount')\n",
    "\n",
    "    def withdraw(self, amount):\n",
    "        if 0 < amount <= self.__balance:\n",
    "            self.__balance -= amount\n",
    "            print(f'Withdrew {amount}')\n",
    "        else:\n",
    "            print('Invalid amount or Insufficient balance')\n",
    "\n",
    "    def check_balance(self):\n",
    "        print(f'Current balance is {self.__balance}')\n",
    "\n",
    "acc1 = BankAccount('Ali',10000)\n",
    "acc1.deposite(5000)\n",
    "acc1.withdraw(4000)\n",
    "acc1.check_balance()"
   ]
  },
  {
   "cell_type": "markdown",
   "id": "1cfae7fc",
   "metadata": {},
   "source": [
    "# Abstraction\n",
    "- hiding implementation\n",
    "- using ABC Module\n",
    "- using abstract method hide complexity of func, each subclass will define it according to need"
   ]
  },
  {
   "cell_type": "code",
   "execution_count": 41,
   "id": "76d78dd5",
   "metadata": {},
   "outputs": [
    {
     "name": "stdout",
     "output_type": "stream",
     "text": [
      "Rectangle Area:  45\n",
      "Circle Area:  28.274333882308138\n"
     ]
    }
   ],
   "source": [
    "from abc import ABC, abstractmethod\n",
    "import math\n",
    "\n",
    "# Abstract class, can't create instance\n",
    "class Shape(ABC):\n",
    "\n",
    "    # Abstract method, hiding complexity\n",
    "    @abstractmethod\n",
    "    def calculate_area():\n",
    "        pass        # no implementation\n",
    "    \n",
    "class Rectangle(Shape):\n",
    "    def calculate_area(self, length, width):\n",
    "        print('Rectangle Area: ',length * width)\n",
    "    \n",
    "class Circle(Shape):\n",
    "    def calculate_area(self, radius):\n",
    "        print('Circle Area: ', math.pi*radius**2)\n",
    "    \n",
    "rec = Rectangle()\n",
    "cir = Circle()\n",
    "\n",
    "rec.calculate_area(5,9)\n",
    "cir.calculate_area(3)"
   ]
  }
 ],
 "metadata": {
  "kernelspec": {
   "display_name": "Python 3",
   "language": "python",
   "name": "python3"
  },
  "language_info": {
   "codemirror_mode": {
    "name": "ipython",
    "version": 3
   },
   "file_extension": ".py",
   "mimetype": "text/x-python",
   "name": "python",
   "nbconvert_exporter": "python",
   "pygments_lexer": "ipython3",
   "version": "3.8.2"
  }
 },
 "nbformat": 4,
 "nbformat_minor": 5
}
