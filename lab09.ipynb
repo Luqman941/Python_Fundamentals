{
 "cells": [
  {
   "cell_type": "markdown",
   "id": "9c8ad645",
   "metadata": {},
   "source": [
    "# Exception Handling in Python\n",
    "- Error/exceptions are mistakes or bugs that cause a program to produce incorrect or unexpected results, or to behave in unintended ways.\n",
    "### Types of errors\n",
    "- Syntax errors\n",
    "- Logical errors\n",
    "- Runtime errors"
   ]
  },
  {
   "cell_type": "code",
   "execution_count": 3,
   "id": "64aa434a",
   "metadata": {},
   "outputs": [
    {
     "ename": "SyntaxError",
     "evalue": "invalid syntax (4218806137.py, line 2)",
     "output_type": "error",
     "traceback": [
      "\u001b[1;36m  Cell \u001b[1;32mIn [3], line 2\u001b[1;36m\u001b[0m\n\u001b[1;33m    print'My name')\u001b[0m\n\u001b[1;37m         ^\u001b[0m\n\u001b[1;31mSyntaxError\u001b[0m\u001b[1;31m:\u001b[0m invalid syntax\n"
     ]
    }
   ],
   "source": [
    "# SYNTAX ERROR\n",
    "print'My name')"
   ]
  },
  {
   "cell_type": "code",
   "execution_count": 5,
   "id": "ce88987f",
   "metadata": {},
   "outputs": [
    {
     "name": "stdout",
     "output_type": "stream",
     "text": [
      "5 - 5 =  25\n"
     ]
    }
   ],
   "source": [
    "# LOGICAL ERROR\n",
    "def subtraction(a, b):\n",
    "    return a*b      # It should be a - b\n",
    "\n",
    "print('5 - 5 = ', subtraction(5,5))"
   ]
  },
  {
   "cell_type": "code",
   "execution_count": 7,
   "id": "bce3896a",
   "metadata": {},
   "outputs": [
    {
     "ename": "ZeroDivisionError",
     "evalue": "division by zero",
     "output_type": "error",
     "traceback": [
      "\u001b[1;31m---------------------------------------------------------------------------\u001b[0m",
      "\u001b[1;31mZeroDivisionError\u001b[0m                         Traceback (most recent call last)",
      "Cell \u001b[1;32mIn [7], line 5\u001b[0m\n\u001b[0;32m      2\u001b[0m numerator \u001b[38;5;241m=\u001b[39m \u001b[38;5;241m33\u001b[39m\n\u001b[0;32m      3\u001b[0m denominator \u001b[38;5;241m=\u001b[39m \u001b[38;5;241m0\u001b[39m\n\u001b[1;32m----> 5\u001b[0m \u001b[38;5;28mprint\u001b[39m(\u001b[43mnumerator\u001b[49m\u001b[38;5;241;43m/\u001b[39;49m\u001b[43mdenominator\u001b[49m)\n",
      "\u001b[1;31mZeroDivisionError\u001b[0m: division by zero"
     ]
    }
   ],
   "source": [
    "# RUNTIME ERROR\n",
    "numerator = 33\n",
    "denominator = 0\n",
    "\n",
    "print(numerator/denominator)"
   ]
  },
  {
   "cell_type": "markdown",
   "id": "300c4dd0",
   "metadata": {},
   "source": [
    "### Error Hierarchy\n",
    "The base class for all for all built-in exception is **BaseException**. All other exceptions are derived from this class\n",
    "\n",
    "There are 4 main direct subclasses\n",
    "- SystemExit\n",
    "- KeyboardInterrupt\n",
    "- GeneratorExit\n",
    "- Exception"
   ]
  },
  {
   "cell_type": "code",
   "execution_count": 11,
   "id": "4be8135d",
   "metadata": {},
   "outputs": [
    {
     "name": "stdout",
     "output_type": "stream",
     "text": [
      "SystemExit is raised by sys.exit() function\n"
     ]
    }
   ],
   "source": [
    "import sys\n",
    "\n",
    "try:\n",
    "    sys.exit()\n",
    "except SystemExit:\n",
    "    print('SystemExit is raised by sys.exit() function')"
   ]
  },
  {
   "cell_type": "code",
   "execution_count": 12,
   "id": "19e3a6e0",
   "metadata": {},
   "outputs": [
    {
     "name": "stdout",
     "output_type": "stream",
     "text": [
      "KeyboardInterrupt error is raised by Interruption key (pressed by user)\n"
     ]
    }
   ],
   "source": [
    "try:\n",
    "    while True:\n",
    "        pass\n",
    "except KeyboardInterrupt:\n",
    "    print('KeyboardInterrupt error is raised by Interruption key (pressed by user)')"
   ]
  },
  {
   "cell_type": "code",
   "execution_count": 13,
   "id": "7ae295c2",
   "metadata": {},
   "outputs": [
    {
     "name": "stdout",
     "output_type": "stream",
     "text": [
      "GeneratorExit is called when generators close method is called\n"
     ]
    }
   ],
   "source": [
    "def generator():\n",
    "    try:\n",
    "        yield\n",
    "    except GeneratorExit:\n",
    "        print(\"GeneratorExit is called when generators close method is called\")\n",
    "\n",
    "gen = generator()\n",
    "next(gen)\n",
    "gen.close()"
   ]
  },
  {
   "cell_type": "markdown",
   "id": "782e4d05",
   "metadata": {},
   "source": [
    "## Exception Handling\n",
    "We write the code that can raise an exception inside the try block. If an exception is raised, the code inside the except block is executed.\n",
    "\n",
    "We typically handle the exceptions that are subclasses of the Exception class.\n",
    "- ArithmeticError\n",
    "- LookupError\n",
    "- ValueError\n",
    "- TypeError\n",
    "- FileNotFoundError\n",
    "- ImportError\n",
    "- and many more..."
   ]
  },
  {
   "cell_type": "code",
   "execution_count": 14,
   "id": "0d6cc39c",
   "metadata": {},
   "outputs": [
    {
     "name": "stdout",
     "output_type": "stream",
     "text": [
      "Error: Division by zero is not acceptable\n"
     ]
    }
   ],
   "source": [
    "try:\n",
    "    numerator = 45\n",
    "    denominator = 0\n",
    "    print(numerator / denominator)\n",
    "except ZeroDivisionError:\n",
    "    print('Error: Division by zero is not acceptable')"
   ]
  },
  {
   "cell_type": "code",
   "execution_count": 15,
   "id": "243804f3",
   "metadata": {},
   "outputs": [
    {
     "name": "stdout",
     "output_type": "stream",
     "text": [
      "Error: Invalid input for int() function\n"
     ]
    }
   ],
   "source": [
    "try:\n",
    "    number = int(\"xyz\")\n",
    "except ValueError:\n",
    "    print('Error: Invalid input for int() function')"
   ]
  },
  {
   "cell_type": "code",
   "execution_count": 16,
   "id": "443dbdb6",
   "metadata": {},
   "outputs": [
    {
     "name": "stdout",
     "output_type": "stream",
     "text": [
      "Error: Invalid input for int() function\n"
     ]
    }
   ],
   "source": [
    "try:\n",
    "    number = int('xyz')\n",
    "    result = 10/0\n",
    "except ValueError:\n",
    "    print('Error: Invalid input for int() function')\n",
    "except ZeroDivisionError:\n",
    "    print('Error: Division by zero is not allowed')"
   ]
  },
  {
   "cell_type": "code",
   "execution_count": 17,
   "id": "df5021c8",
   "metadata": {},
   "outputs": [
    {
     "name": "stdout",
     "output_type": "stream",
     "text": [
      "Error: division by zero\n"
     ]
    }
   ],
   "source": [
    "# Handling multiple exceptions using a single except block\n",
    "try:\n",
    "    number = int(0)\n",
    "    result = 10/0\n",
    "except(ValueError, ZeroDivisionError) as e:\n",
    "    print('Error:', e)"
   ]
  },
  {
   "cell_type": "markdown",
   "id": "6b10ee32",
   "metadata": {},
   "source": [
    "# Example of **try, except, else, finally**"
   ]
  },
  {
   "cell_type": "code",
   "execution_count": 18,
   "id": "05461330",
   "metadata": {},
   "outputs": [
    {
     "name": "stdout",
     "output_type": "stream",
     "text": [
      "Error: Division by zero is not allowed\n",
      "It will be always excuted\n"
     ]
    }
   ],
   "source": [
    "try:\n",
    "    numerator = 67\n",
    "    denominator = 0\n",
    "    result = numerator / denominator\n",
    "except ZeroDivisionError:\n",
    "    print('Error: Division by zero is not allowed')\n",
    "else:\n",
    "    print('The value successfully calculated', result)\n",
    "finally:\n",
    "    print('It will be always excuted')"
   ]
  },
  {
   "cell_type": "code",
   "execution_count": 24,
   "id": "42fb5fd3",
   "metadata": {},
   "outputs": [
    {
     "name": "stdout",
     "output_type": "stream",
     "text": [
      "Both statements are successfully executed. Result: 10.0\n",
      "Program terminated.\n"
     ]
    }
   ],
   "source": [
    "try:\n",
    "    number = int('100')\n",
    "    result = number/10\n",
    "except ValueError:\n",
    "    print('Error: Invalid value for int() function')\n",
    "except ZeroDivisionError:\n",
    "    print('Error: Division by zero is not allowed')\n",
    "else:\n",
    "    print('Both statements are successfully executed. Result:', result)\n",
    "finally:\n",
    "    print('Program terminated.')"
   ]
  },
  {
   "cell_type": "markdown",
   "id": "4153e972",
   "metadata": {},
   "source": [
    "# Custom Exceptions\n",
    "Custom exceptions are user-defined exceptions, derived from the Exception class. They are used to raise and catch custom exceptions.\n",
    "- Using raise statement"
   ]
  },
  {
   "cell_type": "code",
   "execution_count": 25,
   "id": "dd41e6ac",
   "metadata": {},
   "outputs": [
    {
     "name": "stdout",
     "output_type": "stream",
     "text": [
      "Exception:  This is user generated error\n"
     ]
    }
   ],
   "source": [
    "try:\n",
    "    raise ValueError('This is user generated error')\n",
    "except ValueError as e:\n",
    "    print('Exception: ', e)"
   ]
  },
  {
   "cell_type": "markdown",
   "id": "98917785",
   "metadata": {},
   "source": [
    "### Creating CustomError class"
   ]
  },
  {
   "cell_type": "code",
   "execution_count": 28,
   "id": "533afa99",
   "metadata": {},
   "outputs": [
    {
     "name": "stdout",
     "output_type": "stream",
     "text": [
      "Custom Class Error: This is custom generated error message\n"
     ]
    }
   ],
   "source": [
    "class MyCustomError(Exception):\n",
    "    def __init__(self, message):\n",
    "        self.message = message\n",
    "        super().__init__(self.message)\n",
    "\n",
    "try:\n",
    "    raise MyCustomError(\"This is custom generated error message\")\n",
    "except MyCustomError as e:\n",
    "    print('Custom Class Error:', e)"
   ]
  },
  {
   "cell_type": "code",
   "execution_count": 29,
   "id": "090472ef",
   "metadata": {},
   "outputs": [
    {
     "name": "stdout",
     "output_type": "stream",
     "text": [
      "Error: Division by zero is not allowed\n"
     ]
    }
   ],
   "source": [
    "def divide_num(a, b):\n",
    "    if b==0:\n",
    "        raise MyCustomError('Division by zero is not allowed')\n",
    "    return a/b\n",
    "\n",
    "try:\n",
    "    divide_num(13,0)\n",
    "except MyCustomError as e:\n",
    "    print('Error:', e)"
   ]
  },
  {
   "cell_type": "markdown",
   "id": "547ea766",
   "metadata": {},
   "source": [
    "## Error Logging and its Components\n",
    "Logging is a way to track events that happen when some software runs. It is a way to record events that happen when some software runs. It is a way to record data to a file.\n",
    "\n",
    "Following are the components of logging:\n",
    "1. Logger\n",
    "2. Handler\n",
    "3. Log Level\n",
    "4. Log Formatter\n",
    "5. Log Record"
   ]
  },
  {
   "cell_type": "code",
   "execution_count": 52,
   "id": "f1c82fcc",
   "metadata": {},
   "outputs": [
    {
     "data": {
      "text/plain": [
       "<Logger Example logging (DEBUG)>"
      ]
     },
     "execution_count": 52,
     "metadata": {},
     "output_type": "execute_result"
    }
   ],
   "source": [
    "# 1. Logger: This is the main entry point for logging.\n",
    "# You can create multiple loggers with different names.\n",
    "import logging\n",
    "\n",
    "logger = logging.getLogger('Example logging')\n",
    "logger"
   ]
  },
  {
   "cell_type": "code",
   "execution_count": 53,
   "id": "96545fed",
   "metadata": {},
   "outputs": [
    {
     "data": {
      "text/plain": [
       "<FileHandler c:\\Users\\M.Luqman khan\\Desktop\\NAVTTC AI\\Practice Work\\Example.log (NOTSET)>"
      ]
     },
     "execution_count": 53,
     "metadata": {},
     "output_type": "execute_result"
    }
   ],
   "source": [
    "# 2. Handler: This sends the log records to the appropriate\n",
    "# destination, such as a file or the console.\n",
    "\n",
    "handler = logging.FileHandler('Example.log')\n",
    "handler"
   ]
  },
  {
   "cell_type": "code",
   "execution_count": 54,
   "id": "e6e252a1",
   "metadata": {},
   "outputs": [
    {
     "data": {
      "text/plain": [
       "<Logger Example logging (DEBUG)>"
      ]
     },
     "execution_count": 54,
     "metadata": {},
     "output_type": "execute_result"
    }
   ],
   "source": [
    "# 3. Log Level: Set the log level for the logger\n",
    "logger.setLevel(logging.DEBUG)\n",
    "logger"
   ]
  },
  {
   "cell_type": "code",
   "execution_count": 55,
   "id": "8d51e792",
   "metadata": {},
   "outputs": [
    {
     "data": {
      "text/plain": [
       "<logging.Formatter at 0x23707598070>"
      ]
     },
     "execution_count": 55,
     "metadata": {},
     "output_type": "execute_result"
    }
   ],
   "source": [
    "# 4. Formatter: This specifies the layout of the log messages.\n",
    "formatter = logging.Formatter('%(asctime)s - %(name)s - %(levelname)s - %(message)s')\n",
    "formatter"
   ]
  },
  {
   "cell_type": "code",
   "execution_count": 56,
   "id": "04450950",
   "metadata": {},
   "outputs": [
    {
     "data": {
      "text/plain": [
       "<Logger Example logging (DEBUG)>"
      ]
     },
     "execution_count": 56,
     "metadata": {},
     "output_type": "execute_result"
    }
   ],
   "source": [
    "# Add the handler and formatter to the logger\n",
    "handler.setFormatter(formatter)\n",
    "logger.addHandler(handler)\n",
    "logger"
   ]
  },
  {
   "cell_type": "code",
   "execution_count": 57,
   "id": "5f30eb09",
   "metadata": {},
   "outputs": [
    {
     "name": "stderr",
     "output_type": "stream",
     "text": [
      "2025-08-08 21:52:02,759 - ERROR - Error occurred: division by zero\n"
     ]
    }
   ],
   "source": [
    "# Example of using logger\n",
    "try:\n",
    "    result = 10 / 0\n",
    "except ZeroDivisionError as e:\n",
    "    logger.error(\"Error occurred: %s\", e)"
   ]
  },
  {
   "cell_type": "code",
   "execution_count": 58,
   "id": "20cdda3a",
   "metadata": {},
   "outputs": [
    {
     "name": "stderr",
     "output_type": "stream",
     "text": [
      "2025-08-08 21:52:05,775 - ERROR - Error occurred: division by zero\n"
     ]
    }
   ],
   "source": [
    "import logging\n",
    "\n",
    "\n",
    "# Configure the logging using single call to basicConfig\n",
    "logging.basicConfig(\n",
    "    level=logging.DEBUG,\n",
    "    format=\"%(asctime)s - %(levelname)s - %(message)s\",\n",
    "    handlers=[ # can assign multiple handlers\n",
    "        logging.FileHandler(\"example.log\"), # log to a file\n",
    "        logging.StreamHandler() # log to console\n",
    "    ]\n",
    ")\n",
    "\n",
    "# Example of logging an error\n",
    "try:\n",
    "    result = 10 / 0\n",
    "except ZeroDivisionError as e:\n",
    "    logging.error(\"Error occurred: %s\", e)\n"
   ]
  },
  {
   "cell_type": "code",
   "execution_count": 63,
   "id": "8df6ebce",
   "metadata": {},
   "outputs": [
    {
     "name": "stdout",
     "output_type": "stream",
     "text": [
      "You stopped the program!\n"
     ]
    }
   ],
   "source": [
    "try:\n",
    "    while True:\n",
    "        pass\n",
    "except KeyboardInterrupt:\n",
    "    print(\"You stopped the program!\")\n",
    "\n"
   ]
  }
 ],
 "metadata": {
  "kernelspec": {
   "display_name": "Python 3",
   "language": "python",
   "name": "python3"
  },
  "language_info": {
   "codemirror_mode": {
    "name": "ipython",
    "version": 3
   },
   "file_extension": ".py",
   "mimetype": "text/x-python",
   "name": "python",
   "nbconvert_exporter": "python",
   "pygments_lexer": "ipython3",
   "version": "3.8.2"
  }
 },
 "nbformat": 4,
 "nbformat_minor": 5
}
