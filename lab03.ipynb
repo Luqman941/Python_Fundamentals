{
 "cells": [
  {
   "cell_type": "markdown",
   "id": "fe26e968",
   "metadata": {},
   "source": [
    "# Loops in Python\n",
    "<h4>while loop</h4>"
   ]
  },
  {
   "cell_type": "code",
   "execution_count": 2,
   "id": "a1ab516e",
   "metadata": {},
   "outputs": [
    {
     "name": "stdout",
     "output_type": "stream",
     "text": [
      "1\n",
      "2\n",
      "3\n",
      "4\n",
      "5\n",
      "6\n",
      "7\n",
      "8\n",
      "9\n",
      "10\n"
     ]
    }
   ],
   "source": [
    "i = 1\n",
    "while i<=10:\n",
    "    print(i)\n",
    "    i+=1"
   ]
  },
  {
   "cell_type": "markdown",
   "id": "fd324444",
   "metadata": {},
   "source": [
    "<h4>for loop</h4>"
   ]
  },
  {
   "cell_type": "code",
   "execution_count": null,
   "id": "e6e0b536",
   "metadata": {},
   "outputs": [
    {
     "name": "stdout",
     "output_type": "stream",
     "text": [
      "1\n",
      "2\n",
      "3\n",
      "4\n",
      "5\n",
      "6\n",
      "7\n",
      "8\n",
      "9\n",
      "10\n"
     ]
    }
   ],
   "source": [
    "for i in range(1,11):\n",
    "    print(i)"
   ]
  },
  {
   "cell_type": "markdown",
   "id": "717dcdff",
   "metadata": {},
   "source": [
    "# Iterating with loops\n",
    "<h4>list of strings</h4>"
   ]
  },
  {
   "cell_type": "code",
   "execution_count": 3,
   "id": "1cc51ad1",
   "metadata": {},
   "outputs": [
    {
     "name": "stdout",
     "output_type": "stream",
     "text": [
      "apple\n",
      "banana\n",
      "cherry\n"
     ]
    }
   ],
   "source": [
    "fruits = ['apple', 'banana', 'cherry']\n",
    "for fruit in fruits:\n",
    "    print(fruit)"
   ]
  },
  {
   "cell_type": "markdown",
   "id": "5d73bd10",
   "metadata": {},
   "source": [
    "<h4> dictionary key value </h4>"
   ]
  },
  {
   "cell_type": "code",
   "execution_count": null,
   "id": "a49dad54",
   "metadata": {},
   "outputs": [
    {
     "name": "stdout",
     "output_type": "stream",
     "text": [
      "name  :  Ali\n",
      "age  :  25\n",
      "city  :  Kohat\n"
     ]
    }
   ],
   "source": [
    "person = {'name':'Ali', 'age':25,'city':'Kohat'}\n",
    "for key,value in person.items():\n",
    "    print(key,' : ', value)"
   ]
  },
  {
   "cell_type": "markdown",
   "id": "6dc442b1",
   "metadata": {},
   "source": [
    "<h2>zip in loop</h2>\n",
    "\n",
    "- zip function combines multiple iterables"
   ]
  },
  {
   "cell_type": "code",
   "execution_count": 5,
   "id": "6264ba65",
   "metadata": {},
   "outputs": [
    {
     "name": "stdout",
     "output_type": "stream",
     "text": [
      "Ali is 25 years old & his weight is 70\n",
      "Iqbal is 30 years old & his weight is 78\n",
      "Khan is 35 years old & his weight is 60\n"
     ]
    }
   ],
   "source": [
    "names = ['Ali', 'Iqbal', 'Khan']\n",
    "ages = [25,30,35]\n",
    "weights =(70, 78,60)\n",
    "for name, age, w in zip(names,ages,weights):\n",
    "    print(f'{name} is {age} years old & his weight is {w}')"
   ]
  },
  {
   "cell_type": "markdown",
   "id": "90995662",
   "metadata": {},
   "source": [
    "<h3>while loop iterating until user enter exit </h3>"
   ]
  },
  {
   "cell_type": "code",
   "execution_count": 6,
   "id": "21aee0bd",
   "metadata": {},
   "outputs": [
    {
     "name": "stdout",
     "output_type": "stream",
     "text": [
      "You entered: Luqman\n",
      "You entered: end\n",
      "You entered: stop\n",
      "You entered: exit\n"
     ]
    }
   ],
   "source": [
    "user_input = \"\"\n",
    "while user_input.lower()!= \"exit\":\n",
    "    user_input = input(\"Enter something (type 'stop' to end): \")\n",
    "    print(\"You entered:\", user_input)"
   ]
  },
  {
   "cell_type": "markdown",
   "id": "9b4db422",
   "metadata": {},
   "source": [
    "<h3>for loop printing each letter on a new line</h3>"
   ]
  },
  {
   "cell_type": "code",
   "execution_count": 7,
   "id": "0a3fa41e",
   "metadata": {},
   "outputs": [
    {
     "name": "stdout",
     "output_type": "stream",
     "text": [
      "P\n",
      "a\n",
      "k\n",
      "i\n",
      "s\n",
      "t\n",
      "a\n",
      "n\n"
     ]
    }
   ],
   "source": [
    "word = \"Pakistan\"\n",
    "for letter in word:\n",
    "    print(letter)\n"
   ]
  },
  {
   "cell_type": "markdown",
   "id": "411afcd3",
   "metadata": {},
   "source": [
    "# range() function\n",
    "\n",
    "- printing even numbers between 2 and 15\n",
    "- printinh numbers in reverse from 5 to 1"
   ]
  },
  {
   "cell_type": "code",
   "execution_count": 7,
   "id": "dbb540e0",
   "metadata": {},
   "outputs": [
    {
     "name": "stdout",
     "output_type": "stream",
     "text": [
      "2\n",
      "4\n",
      "6\n",
      "8\n",
      "10\n",
      "12\n",
      "14\n",
      "5\n",
      "4\n",
      "3\n",
      "2\n",
      "1\n"
     ]
    }
   ],
   "source": [
    "for i in range(2, 15, 2):\n",
    "    print(i)\n",
    "\n",
    "for i in range(5,0,-1):\n",
    "    print(i)"
   ]
  },
  {
   "cell_type": "markdown",
   "id": "73351d4f",
   "metadata": {},
   "source": [
    "# break statement\n",
    "- break the loop on a condition"
   ]
  },
  {
   "cell_type": "code",
   "execution_count": 8,
   "id": "87236f10",
   "metadata": {},
   "outputs": [
    {
     "name": "stdout",
     "output_type": "stream",
     "text": [
      "1\n",
      "2\n",
      "3\n"
     ]
    }
   ],
   "source": [
    "for i in range(1, 16):\n",
    "    if i == 4:\n",
    "        break\n",
    "    print(i)"
   ]
  },
  {
   "cell_type": "code",
   "execution_count": 9,
   "id": "636e53b2",
   "metadata": {},
   "outputs": [
    {
     "name": "stdout",
     "output_type": "stream",
     "text": [
      "0\n",
      "1\n",
      "2\n",
      "3\n",
      "4\n",
      "5\n"
     ]
    }
   ],
   "source": [
    "count = 0\n",
    "while True:\n",
    "    print(count)\n",
    "    count += 1\n",
    "    if count == 6:\n",
    "        break"
   ]
  },
  {
   "cell_type": "markdown",
   "id": "033a8bb8",
   "metadata": {},
   "source": [
    "# enumerate\n",
    "- provide both index & the value"
   ]
  },
  {
   "cell_type": "code",
   "execution_count": 11,
   "id": "615913df",
   "metadata": {},
   "outputs": [
    {
     "name": "stdout",
     "output_type": "stream",
     "text": [
      "0 KPK\n",
      "1 Sindh\n",
      "2 Balochistan\n"
     ]
    }
   ],
   "source": [
    "items = ['KPK', 'Sindh', 'Balochistan']\n",
    "for index, item in enumerate(items):\n",
    "    print(index, item)"
   ]
  },
  {
   "cell_type": "markdown",
   "id": "5f3a2c63",
   "metadata": {},
   "source": [
    "# continue statement\n",
    "- used to skip value"
   ]
  },
  {
   "cell_type": "code",
   "execution_count": 14,
   "id": "e8c5cbd1",
   "metadata": {},
   "outputs": [
    {
     "name": "stdout",
     "output_type": "stream",
     "text": [
      "1\n",
      "2\n",
      "4\n",
      "5\n",
      "7\n",
      "8\n",
      "9\n",
      "10\n"
     ]
    }
   ],
   "source": [
    "for i in range(1, 11):\n",
    "    if i == 3 or i == 6:\n",
    "        continue\n",
    "    print(i)\n"
   ]
  },
  {
   "cell_type": "markdown",
   "id": "82ca8249",
   "metadata": {},
   "source": [
    "# pass statement\n",
    "\n",
    "- null operation to not generate error"
   ]
  },
  {
   "cell_type": "code",
   "execution_count": 11,
   "id": "8b3c1c24",
   "metadata": {},
   "outputs": [
    {
     "name": "stdout",
     "output_type": "stream",
     "text": [
      "2\n",
      "3\n",
      "4\n",
      "5\n"
     ]
    }
   ],
   "source": [
    "for i in range(1, 6):\n",
    "    if i < 2:\n",
    "        pass    # does nothing for numbers less than 2\n",
    "    else:\n",
    "        print(i)"
   ]
  },
  {
   "cell_type": "markdown",
   "id": "5bb7c2d9",
   "metadata": {},
   "source": [
    "# Working with list"
   ]
  },
  {
   "cell_type": "code",
   "execution_count": 17,
   "id": "7e849ff6",
   "metadata": {},
   "outputs": [
    {
     "data": {
      "text/plain": [
       "[2, 4, 6, 8, 10, 12, 14, 16, 18]"
      ]
     },
     "execution_count": 17,
     "metadata": {},
     "output_type": "execute_result"
    }
   ],
   "source": [
    "a = [i * 2 for i in range(1, 10)]\n",
    "a"
   ]
  },
  {
   "cell_type": "code",
   "execution_count": 18,
   "id": "601f69e1",
   "metadata": {},
   "outputs": [
    {
     "name": "stdout",
     "output_type": "stream",
     "text": [
      "[0, 1, 4, 9, 16]\n"
     ]
    }
   ],
   "source": [
    "squares = [i ** 2 for i in range(5)]\n",
    "print(squares)"
   ]
  },
  {
   "cell_type": "code",
   "execution_count": 19,
   "id": "3d66fcff",
   "metadata": {},
   "outputs": [
    {
     "data": {
      "text/plain": [
       "[4, 8, 12, 16, 20, 24, 28, 32, 36]"
      ]
     },
     "execution_count": 19,
     "metadata": {},
     "output_type": "execute_result"
    }
   ],
   "source": [
    "a = []\n",
    "for i in range(1, 10):\n",
    "    a.append(i * 4)\n",
    "a"
   ]
  },
  {
   "cell_type": "markdown",
   "id": "226ed568",
   "metadata": {},
   "source": [
    "# Nested loop"
   ]
  },
  {
   "cell_type": "code",
   "execution_count": 21,
   "id": "699e8770",
   "metadata": {},
   "outputs": [
    {
     "name": "stdout",
     "output_type": "stream",
     "text": [
      "i = 0, j = 0\n",
      "i = 0, j = 1\n",
      "i = 1, j = 0\n",
      "i = 1, j = 1\n",
      "i = 2, j = 0\n",
      "i = 2, j = 1\n",
      "i = 3, j = 0\n",
      "i = 3, j = 1\n",
      "i = 4, j = 0\n",
      "i = 4, j = 1\n"
     ]
    }
   ],
   "source": [
    "for i in range(5):\n",
    "    for j in range(2):\n",
    "        print(f\"i = {i}, j = {j}\")\n"
   ]
  }
 ],
 "metadata": {
  "kernelspec": {
   "display_name": "Python 3",
   "language": "python",
   "name": "python3"
  },
  "language_info": {
   "codemirror_mode": {
    "name": "ipython",
    "version": 3
   },
   "file_extension": ".py",
   "mimetype": "text/x-python",
   "name": "python",
   "nbconvert_exporter": "python",
   "pygments_lexer": "ipython3",
   "version": "3.8.2"
  }
 },
 "nbformat": 4,
 "nbformat_minor": 5
}
