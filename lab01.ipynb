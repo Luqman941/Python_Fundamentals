{
 "cells": [
  {
   "cell_type": "markdown",
   "id": "4237475b",
   "metadata": {},
   "source": [
    "# Hello World Program in Python"
   ]
  },
  {
   "cell_type": "code",
   "execution_count": 1,
   "id": "5a56fc9c",
   "metadata": {},
   "outputs": [
    {
     "name": "stdout",
     "output_type": "stream",
     "text": [
      "Hello, World!\n"
     ]
    }
   ],
   "source": [
    "print('Hello, World!')"
   ]
  },
  {
   "cell_type": "markdown",
   "id": "c4504a7f",
   "metadata": {},
   "source": [
    "# Using Variable"
   ]
  },
  {
   "cell_type": "code",
   "execution_count": 4,
   "id": "a691aaca",
   "metadata": {},
   "outputs": [
    {
     "name": "stdout",
     "output_type": "stream",
     "text": [
      "Hello, Luqman!\n"
     ]
    }
   ],
   "source": [
    "name = input('Enter Your Name: ')\n",
    "print(f'Hello, {name}!')"
   ]
  },
  {
   "cell_type": "code",
   "execution_count": 5,
   "id": "88b146be",
   "metadata": {},
   "outputs": [
    {
     "name": "stdout",
     "output_type": "stream",
     "text": [
      "My name is Luqman, I am 26 years old, and my height is 5.11 feet\n"
     ]
    }
   ],
   "source": [
    "name = 'Luqman'\n",
    "age = 26\n",
    "height = 5.11\n",
    "\n",
    "print(f'My name is {name}, I am {age} years old, and my height is {height} feet')"
   ]
  },
  {
   "cell_type": "markdown",
   "id": "4aca4ae7",
   "metadata": {},
   "source": [
    "# Basic Arithmetic Operations"
   ]
  },
  {
   "cell_type": "code",
   "execution_count": 6,
   "id": "2a9c9753",
   "metadata": {},
   "outputs": [
    {
     "name": "stdout",
     "output_type": "stream",
     "text": [
      "Addition:  30\n",
      "Subtraction:  10\n",
      "Multiplication:  200\n",
      "Division:  2.0\n"
     ]
    }
   ],
   "source": [
    "num1 = 20\n",
    "num2 = 10\n",
    "\n",
    "print('Addition: ', num1 + num2)\n",
    "print('Subtraction: ', num1 - num2)\n",
    "print('Multiplication: ', num1 * num2)\n",
    "print('Division: ', num1/num2)"
   ]
  },
  {
   "cell_type": "markdown",
   "id": "0b7d5214",
   "metadata": {},
   "source": [
    "# Working with Integers (int)"
   ]
  },
  {
   "cell_type": "code",
   "execution_count": 7,
   "id": "d27d35b3",
   "metadata": {},
   "outputs": [
    {
     "name": "stdout",
     "output_type": "stream",
     "text": [
      "Addition:  20\n"
     ]
    }
   ],
   "source": [
    "a = 15\n",
    "b = 5\n",
    "sum = a + b\n",
    "print('Addition: ', sum)"
   ]
  },
  {
   "cell_type": "markdown",
   "id": "2b7aec0a",
   "metadata": {},
   "source": [
    "# Working with Strings (str)"
   ]
  },
  {
   "cell_type": "code",
   "execution_count": 1,
   "id": "b546aefb",
   "metadata": {},
   "outputs": [
    {
     "name": "stdout",
     "output_type": "stream",
     "text": [
      "Full Name:  Muhammad Luqman\n",
      "Uppercase Name:  MUHAMMAD LUQMAN\n",
      "Name first letter:  M\n",
      "Name last letter:  n\n"
     ]
    }
   ],
   "source": [
    "first_name = 'Muhammad'\n",
    "last_name = 'Luqman'\n",
    "full_name = first_name + ' ' + last_name\n",
    "print('Full Name: ', full_name)\n",
    "print('Uppercase Name: ', full_name.upper())\n",
    "print('Name first letter: ', full_name[0]) # Print first character\n",
    "print('Name last letter: ', full_name[-1]) # Print last character"
   ]
  },
  {
   "cell_type": "markdown",
   "id": "394e67a3",
   "metadata": {},
   "source": [
    "# Working with Booleans (bool)"
   ]
  },
  {
   "cell_type": "markdown",
   "id": "f075c011",
   "metadata": {},
   "source": [
    "<h4> Using Logical operator \"and\" & \"or\" </h4>"
   ]
  },
  {
   "cell_type": "code",
   "execution_count": 11,
   "id": "b81a3684",
   "metadata": {},
   "outputs": [
    {
     "name": "stdout",
     "output_type": "stream",
     "text": [
      "It's a sunny day!\n",
      "Weather condition is met\n"
     ]
    }
   ],
   "source": [
    "is_sunny = True\n",
    "is_rainny = False\n",
    "\n",
    "if is_sunny and not is_rainny:\n",
    "    print(\"It's a sunny day!\")\n",
    "\n",
    "if is_sunny or is_rainny:\n",
    "    print('Weather condition is met')"
   ]
  },
  {
   "cell_type": "markdown",
   "id": "4130d075",
   "metadata": {},
   "source": [
    "# Working with Lists (list)"
   ]
  },
  {
   "cell_type": "code",
   "execution_count": 12,
   "id": "e8dc363f",
   "metadata": {},
   "outputs": [
    {
     "name": "stdout",
     "output_type": "stream",
     "text": [
      "Number of fruits: 5\n",
      "Fruits:  ['Apple', 'Cherry', 'Orange', 'Grape', 'Mango']\n"
     ]
    }
   ],
   "source": [
    "fruits = ['Apple', 'Banana', 'Cherry', 'Orange', 'Grape']\n",
    "fruits.append('Mango')\n",
    "fruits.remove('Banana')\n",
    "print(f'Number of fruits:', len(fruits))\n",
    "print('Fruits: ', fruits)"
   ]
  },
  {
   "cell_type": "markdown",
   "id": "2a2f1621",
   "metadata": {},
   "source": [
    "# Working with Tuples (tuple)"
   ]
  },
  {
   "cell_type": "code",
   "execution_count": 14,
   "id": "1e4f53de",
   "metadata": {},
   "outputs": [
    {
     "name": "stdout",
     "output_type": "stream",
     "text": [
      "X-coordinate: 10.3\n",
      "X-coordinate: 20.5\n",
      "X-coordinate: 30.7\n"
     ]
    }
   ],
   "source": [
    "coordinates = (10.3, 20.5, 30.7)\n",
    "print('X-coordinate:', coordinates[0])\n",
    "print('X-coordinate:', coordinates[1])\n",
    "print('X-coordinate:', coordinates[2])\n",
    "\n",
    "# ERROR bcs Tuple is constant\n",
    "# coordinates[0]= 5.2"
   ]
  },
  {
   "cell_type": "markdown",
   "id": "db81b47c",
   "metadata": {},
   "source": [
    "# Working with Dictionaries (dict)"
   ]
  },
  {
   "cell_type": "code",
   "execution_count": 6,
   "id": "42949a1a",
   "metadata": {},
   "outputs": [
    {
     "name": "stdout",
     "output_type": "stream",
     "text": [
      "Student Profile:  {'name': 'Muhammad Luqman', 'age': 25, 'major': 'Computer Science'}\n",
      "keys:  dict_keys(['name', 'age', 'major', 'CGPA'])\n",
      "values:  dict_values(['Muhammad Luqman', 26, 'Computer Science', 3.5])\n",
      "Updated Profile:  {'name': 'Muhammad Luqman', 'age': 26, 'CGPA': 3.5}\n"
     ]
    }
   ],
   "source": [
    "student = {'name':'Muhammad Luqman', 'age':25, 'major': 'Computer Science'}\n",
    "\n",
    "print('Student Profile: ', student)\n",
    "\n",
    "# Updating profile\n",
    "student['CGPA'] = 3.5\n",
    "student['age'] = 26\n",
    "print('keys: ', student.keys())\n",
    "print('values: ', student.values())\n",
    "del student['major']\n",
    "print('Updated Profile: ', student)"
   ]
  }
 ],
 "metadata": {
  "kernelspec": {
   "display_name": "Python 3",
   "language": "python",
   "name": "python3"
  },
  "language_info": {
   "codemirror_mode": {
    "name": "ipython",
    "version": 3
   },
   "file_extension": ".py",
   "mimetype": "text/x-python",
   "name": "python",
   "nbconvert_exporter": "python",
   "pygments_lexer": "ipython3",
   "version": "3.8.2"
  }
 },
 "nbformat": 4,
 "nbformat_minor": 5
}
